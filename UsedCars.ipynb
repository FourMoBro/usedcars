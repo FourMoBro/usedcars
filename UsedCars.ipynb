{
 "cells": [
  {
   "cell_type": "code",
   "execution_count": 1,
   "id": "bced15f4-0eb8-470a-ac25-f7001cb24a7f",
   "metadata": {},
   "outputs": [],
   "source": [
    "from fastai.tabular.all import *\n",
    "\n",
    "pd.options.display.float_format = '{:.2f}'.format\n",
    "pd.set_option('display.max_columns', None)\n",
    "set_seed(42)"
   ]
  },
  {
   "cell_type": "code",
   "execution_count": 2,
   "id": "3cecfda0-1730-4bca-bd4b-7f988f96adac",
   "metadata": {},
   "outputs": [],
   "source": [
    "df_train = pd.read_csv('train.csv') # 6298 rows\n",
    "df_test = pd.read_csv('test.csv') # 1000 rows"
   ]
  },
  {
   "cell_type": "markdown",
   "id": "029af8be-35a1-48bb-9f9a-c101e62bd3d9",
   "metadata": {},
   "source": [
    "# File Contents\n",
    "\n",
    "The training dataset file contains 6298 rows of data, separated into 29 columns. The last 2 columns are the dependent variables. One column is Categoric ['Vehicle_Trim'], the other is Numeric ['Dealer_Listing_Price']. These columns do not exist in the test dataset file. \n",
    "\n",
    "Below are all the column names, showing what data types are in the column, and if there are any missing data in datasets. An initial feature engineering approach will also be listed.\n"
   ]
  },
  {
   "cell_type": "markdown",
   "id": "a4dbb4bd-cbeb-446e-8918-9af99a44a455",
   "metadata": {},
   "source": [
    "## ListingID                 \n",
    "\n",
    "ListingID is an int64 type which serves as the unique identifier for each listing. It kinda serves as an index. This column will be dropped from the Training data as it does not serve a purpose in the model. It will also need to be removed from the Test data, but needs to be kept/referenced for final submisson.\n",
    "\n",
    "#### ACTION: Remove column to simplify the model\n",
    "\n",
    "df = df.drop(['ListingID'], axis = 1)\n"
   ]
  },
  {
   "cell_type": "markdown",
   "id": "ca099a80-677f-495b-8b01-dd7be3841428",
   "metadata": {},
   "source": [
    "## SellerCity        \n",
    "\n",
    "SellerCity is a string type. There are no missing values in either the training or test set. \n",
    "To simplify the model, this may be eliminated or combined with SellerState and SellerZip to define location.\n",
    "\n",
    "ACTION: Remove after fixing the zipcode"
   ]
  },
  {
   "cell_type": "markdown",
   "id": "549ea91c-a365-4aa5-a94f-b97287b7c07b",
   "metadata": {},
   "source": [
    "## SellerIsPriv               \n",
    "\n",
    "SellerIsPriv is a boolean value to indicate if the listing is from a private seller. There are no missing values in either the training or test set.\n",
    "\n",
    "ACTION: Keep, make sure it is categorical"
   ]
  },
  {
   "cell_type": "markdown",
   "id": "c37810fc-61fa-4227-900b-8d9f773102b6",
   "metadata": {},
   "source": [
    "## SellerListSrc          \n",
    "\n",
    "SellerListSrc is a string value. There are \"2\" values missing in the training data and \"0\" missing in the test data.\n",
    "\n",
    "ACTION: Fill in the 2 values in the training data."
   ]
  },
  {
   "cell_type": "markdown",
   "id": "f7d1f605-9c54-4ded-800e-8cca563a6616",
   "metadata": {},
   "source": [
    "## SellerName          \n",
    "\n",
    "SellerName is a string value. There are no missing values in either the training or test set. \n",
    "\n",
    "ACTION: Keep, make sure it is categorical."
   ]
  },
  {
   "cell_type": "markdown",
   "id": "66d9ff85-476c-4b89-959d-ccc4b3c12bef",
   "metadata": {},
   "source": [
    "## SellerRating            \n",
    "\n",
    "SellerRating is a float value. There are no missing values in either the training or test set. \n",
    "\n",
    "ACTION: Keep, make sure it is continuous."
   ]
  },
  {
   "cell_type": "markdown",
   "id": "32735f98-ab2e-4f0c-a106-4558a9d972d2",
   "metadata": {},
   "source": [
    "## SellerRevCnt     \n",
    "\n",
    "SellerRevCnt is an integer. There are no missing values in either the training or test set. \n",
    "\n",
    "ACTION: Keep, make sure it is continuous."
   ]
  },
  {
   "cell_type": "markdown",
   "id": "b9540fbb-19b0-4389-bad9-49a657f3724f",
   "metadata": {},
   "source": [
    "## SellerState       \n",
    "\n",
    "SellerState is a string type. There are no missing values in either the training or test set.\n",
    "To simplify the model, this may be eliminated or combined with SellerCity and SellerZip to define location.\n",
    "\n",
    "ACTION: Remove after fixing the zipcode."
   ]
  },
  {
   "cell_type": "markdown",
   "id": "2e56a89e-f3fc-4d26-9533-6c4442eae8a0",
   "metadata": {
    "tags": []
   },
   "source": [
    "## SellerZip   \n",
    "\n",
    "SellerZip is a float type. There are \"2\" values missing in the training data and \"0\" missing in the test data.\n",
    "To simplify the model, this may be eliminated or combined with SellerCity and SellerZip to define location. \n",
    "Should also not be a float.\n",
    "\n",
    "ACTION: \n",
    "df_train[df_train['SellerZip'].isnull()]\n",
    "\n"
   ]
  },
  {
   "cell_type": "code",
   "execution_count": null,
   "id": "d1b2cef8-7631-424b-b192-7f3c48c46499",
   "metadata": {},
   "outputs": [],
   "source": [
    "df_train.query('SellerZip.isnull()', engine='python')"
   ]
  },
  {
   "cell_type": "markdown",
   "id": "5c96f07e-865d-44e4-9cee-f939a82d7e1d",
   "metadata": {},
   "source": [
    "## VehBodystyle  \n",
    "\n",
    "VehBodystyle is a string type. There are no missing values in either the training or test set. There is only one value for this column.\n",
    "\n",
    "#### ACTION: Remove column to simplify the model\n",
    "\n",
    "df = df.drop(['VehBodystyle'], axis = 1)"
   ]
  },
  {
   "cell_type": "markdown",
   "id": "0b5b3bf1-7b35-4aaa-880f-88e433fa5193",
   "metadata": {},
   "source": [
    "## VehCertified            \n",
    "\n",
    "VehCertified is a boolean value. There are no missing values in either the training or test set. \n",
    "\n",
    "ACTION: Keep, make sure it is categorical."
   ]
  },
  {
   "cell_type": "markdown",
   "id": "c56d1cad-fabc-49ed-bccb-a500993c94c5",
   "metadata": {},
   "source": [
    "## VehColorExt      \n",
    "\n",
    "VehColorExt is a string value. There are \"73\" values missing in the training data and \"7\" missing in the test data.\n",
    "\n",
    "ACTION: Make a new column, \"NewExtColor\" combining the like values and fix spelling errors."
   ]
  },
  {
   "cell_type": "code",
   "execution_count": null,
   "id": "86df89f2-90de-4de5-ae4a-86ddf372f7f9",
   "metadata": {},
   "outputs": [],
   "source": [
    "df_train.VehColorExt.value_counts()"
   ]
  },
  {
   "cell_type": "markdown",
   "id": "fc02b3f7-ba08-4a4f-a8ca-331dc1e58de1",
   "metadata": {},
   "source": [
    "## VehColorInt  \n",
    "\n",
    "VehColorInt is a string value. There are \"728\" values missing in the training data and \"108\" missing in the test data.\n",
    "\n",
    "ACTION: Make a new column, \"NewIntColor\" combining the like values and fix spelling errors."
   ]
  },
  {
   "cell_type": "markdown",
   "id": "5dc60c8c-ea76-4a3f-b742-8c0dc047c2bf",
   "metadata": {},
   "source": [
    "## VehDriveTrain      \n",
    "\n",
    "VehDriveTrain is a string value. There are \"401\" values missing in the training data and \"64\" missing in the test data.\n",
    "\n",
    "ACTION: Make a new column, \"NewDriveTrain\""
   ]
  },
  {
   "cell_type": "markdown",
   "id": "40e1b556-285f-480c-8683-f8317c93494d",
   "metadata": {},
   "source": [
    "## VehEngine     \n",
    "\n",
    "VehEngine is a string value. There are \"361\" values missing in the training data and \"58\" missing in the test data."
   ]
  },
  {
   "cell_type": "markdown",
   "id": "2f43730e-2b8e-41d0-b6d5-ecdb35faed19",
   "metadata": {},
   "source": [
    "## VehFeats \n",
    "\n",
    "VehFeats is a list of strings. There are \"275\" values missing in the training data and \"37\" missing in the test data."
   ]
  },
  {
   "cell_type": "markdown",
   "id": "85965041-f8ab-4e9f-ad3e-79fccfa4b517",
   "metadata": {},
   "source": [
    "## VehFuel           \n",
    "\n",
    "VehFuel is a string value. There are \"2\" values missing in the training data and \"0\" missing in the test data."
   ]
  },
  {
   "cell_type": "markdown",
   "id": "3059abed-2140-49f2-b9b5-6f79d38c5694",
   "metadata": {},
   "source": [
    "## VehHistory  \n",
    "\n",
    "VehHistory is a comma separated string. There are \"201\" values missing in the training data and \"27\" missing in the test data."
   ]
  },
  {
   "cell_type": "markdown",
   "id": "97fe8d1a-4c72-4d57-840c-732302a308fc",
   "metadata": {},
   "source": [
    "## VehListdays      \n",
    "\n",
    "VehListdays is a float value. There are \"2\" values missing in the training data and \"0\" missing in the test data."
   ]
  },
  {
   "cell_type": "markdown",
   "id": "e1e8e630-6a4b-4a93-9818-fc18044e0dd3",
   "metadata": {},
   "source": [
    "## VehMake\n",
    "\n",
    "VehMake is a string value. There are no missing values in either the training or test set. There are only 2 choices being Jeep or Cadillac, and this is really an extra column as we have VehModel. One of these columns should be removed to simplify the model."
   ]
  },
  {
   "cell_type": "markdown",
   "id": "a0a4e6ba-215b-418d-9829-9dc12ccdb0e1",
   "metadata": {},
   "source": [
    "## VehMileage              \n",
    "\n",
    "VehMileage is a float value. There are \"2\" values missing in the training data and \"1\" missing in the test data. This can probably be imputed with the mean.\n",
    "\n",
    "ACTION: Impute the missing values with the mean."
   ]
  },
  {
   "cell_type": "markdown",
   "id": "9adedbff-f5ce-4fc4-a4b8-bbaa4d267a1e",
   "metadata": {},
   "source": [
    "## VehModel\n",
    "\n",
    "VehModel is a string value. There are no missing values in either the training or test set. There are only 2 choices being Grand Cherokee or XT5, and this is really an extra column as we have VehMake. One of these columns should be removed to simplify the model."
   ]
  },
  {
   "cell_type": "markdown",
   "id": "5455bb4a-1ee7-4c33-a972-197c0e20aa5f",
   "metadata": {},
   "source": [
    "## VehPriceLabel\n",
    "\n",
    "VehPriceLabel is a string value. There are \"285\" values missing in the training data and \"38\" missing in the test data."
   ]
  },
  {
   "cell_type": "markdown",
   "id": "9a7b6860-ec04-4a76-a30c-4e5cf87de983",
   "metadata": {},
   "source": [
    "## VehSellerNotes\n",
    "\n",
    "VehSellerNotes is free text. There are \"243\" values missing in the training data and \"41\" missing in the test data."
   ]
  },
  {
   "cell_type": "markdown",
   "id": "a8776840-5d87-4445-8a26-50b504f28db6",
   "metadata": {},
   "source": [
    "## VehType    \n",
    "\n",
    "VehType is a string. There are no missing values in either the training or test set. There is only one value for this column.\n",
    "\n",
    "#### ACTION: Remove column to simplify the model\n",
    "\n",
    "df = df.drop(['VehType'], axis = 1) "
   ]
  },
  {
   "cell_type": "markdown",
   "id": "43882074-1ed7-4bc4-a721-a371f871400e",
   "metadata": {},
   "source": [
    "## VehTransmission         \n",
    "\n",
    "VehTransmission is a string value. There are \"197\" values missing in the training data and \"27\" missing in the test data."
   ]
  },
  {
   "cell_type": "markdown",
   "id": "42981713-7b9f-4e0e-9635-311167e3b448",
   "metadata": {},
   "source": [
    "## VehYear\n",
    "\n",
    "VehTYear is an integer. There are no missing values in either the training or test set."
   ]
  },
  {
   "cell_type": "markdown",
   "id": "d02bf848-7666-46d3-8b62-bc105dde146e",
   "metadata": {},
   "source": [
    "## Vehicle_Trim     \n",
    "\n",
    "Vehicle_Trim is a string and the depenedent variable for one of the analysis. There are \"405\" values missing in the training set. Since this is the dependent variable I will remove these rows for the Classifier as I cannot train on them nor test to them.\n",
    "\n",
    "ACTION: Remove null rows for a better train/test split for the classifier task."
   ]
  },
  {
   "cell_type": "markdown",
   "id": "f6ab29cf-54db-4ebb-97bd-611395d1d232",
   "metadata": {},
   "source": [
    "## Dealer_Listing_Price    \n",
    "\n",
    "Dealer_Listing_Price is a float value and the dependent variable for one of the analysis. There are \"52\" values missing in the training set. Since this is the dependent variable I will remove these rows for the Regression as I cannot train on them nor test to them.\n",
    "\n",
    "ACTION: Remove null rows for a better train/test split for the regression task."
   ]
  },
  {
   "cell_type": "markdown",
   "id": "e48fefe3-3550-4891-961d-143649039918",
   "metadata": {},
   "source": [
    "Start of functions, items copied from Titanic notebook"
   ]
  },
  {
   "cell_type": "code",
   "execution_count": null,
   "id": "cf7fb06f-1cf4-4458-8f80-b0e926fb078a",
   "metadata": {},
   "outputs": [],
   "source": [
    "def add_features(df):\n",
    "    df = df.drop(['ListingID'], axis = 1)\n",
    "    df = df.drop(['VehType'], axis = 1)\n",
    "    df = df.drop(['VehBodystyle'], axis = 1)\n",
    "    \n",
    "    #df['LogFare'] = np.log1p(df['Fare'])\n",
    "    #df['Deck'] = df.Cabin.str[0].map(dict(A=\"ABC\", B=\"ABC\", C=\"ABC\", D=\"DE\", E=\"DE\", F=\"FG\", G=\"FG\"))\n",
    "    #df['Family'] = df.SibSp+df.Parch\n",
    "    #df['Alone'] = df.Family==1\n",
    "    #df['TicketFreq'] = df.groupby('Ticket')['Ticket'].transform('count')\n",
    "    #df['Title'] = df.Name.str.split(', ', expand=True)[1].str.split('.', expand=True)[0]\n",
    "    #df['Title'] = df.Title.map(dict(Mr=\"Mr\",Miss=\"Miss\",Mrs=\"Mrs\",Master=\"Master\")).value_counts(dropna=False)\n",
    "\n",
    "add_features(df)"
   ]
  },
  {
   "cell_type": "code",
   "execution_count": null,
   "id": "770b96bb-0cf3-492a-af01-156275274c7a",
   "metadata": {},
   "outputs": [],
   "source": [
    "cats=[\"Sex\",\"Embarked\"]\n",
    "conts=['Age', 'SibSp', 'Parch', 'LogFare',\"Pclass\"]\n",
    "dep=\"Survived\""
   ]
  }
 ],
 "metadata": {
  "kernelspec": {
   "display_name": "Python 3 (ipykernel)",
   "language": "python",
   "name": "python3"
  },
  "language_info": {
   "codemirror_mode": {
    "name": "ipython",
    "version": 3
   },
   "file_extension": ".py",
   "mimetype": "text/x-python",
   "name": "python",
   "nbconvert_exporter": "python",
   "pygments_lexer": "ipython3",
   "version": "3.10.6"
  }
 },
 "nbformat": 4,
 "nbformat_minor": 5
}
